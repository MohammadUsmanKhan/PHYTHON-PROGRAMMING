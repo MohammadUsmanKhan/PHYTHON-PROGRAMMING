{
 "cells": [
  {
   "cell_type": "code",
   "execution_count": 1,
   "metadata": {},
   "outputs": [
    {
     "name": "stdout",
     "output_type": "stream",
     "text": [
      "Enter English Marks=79\n",
      "Enter Maths Marks=50\n",
      "Enter Physics Marks=65\n",
      "Enter Chemistry Marks=41\n",
      "Enter General Know Marks=71\n",
      "********** STATEMENT OF MARKS ************\n",
      "*          Marks of English= 79          *\n",
      "*          Marks of Maths= 50            *\n",
      "*          Marks of Physics= 65          *\n",
      "*          Marks of Chemistry= 41        *\n",
      "*          Marks of General Knowledge= 71*\n",
      "*          PERECENTAGE=61.20             *\n",
      "*             Grade: D                   *\n",
      "********** ------------------ ************\n"
     ]
    }
   ],
   "source": [
    "# Question No. 1\n",
    "a=int(input(\"Enter English Marks=\"))\n",
    "b=int(input(\"Enter Maths Marks=\"))\n",
    "c=int(input(\"Enter Physics Marks=\"))\n",
    "d=int(input(\"Enter Chemistry Marks=\"))\n",
    "e=int(input(\"Enter General Know Marks=\"))\n",
    "total_marks=500\n",
    "percentage=((a+b+c+d+e)/(total_marks))*100\n",
    "p=percentage\n",
    "\n",
    "print(\"********** STATEMENT OF MARKS ************\")\n",
    "print(\"*          Marks of English=\",str(a) + \"          *\")\n",
    "print(\"*          Marks of Maths=\",str(b) + \"            *\")\n",
    "print(\"*          Marks of Physics=\",str(c) +\"          *\")\n",
    "print(\"*          Marks of Chemistry=\",str(d)+\"        *\")\n",
    "print(\"*          Marks of General Knowledge=\",str(e)+\"*\")\n",
    "print(\"*          PERECENTAGE=\"\"%.2f\" % p + \"             *\")\n",
    "\n",
    "if(p>=90):\n",
    "    print(\"*             Grade: A                   *\")\n",
    "    print(\"********** ------------------ ************\")\n",
    "elif(p>=80 and p<90):\n",
    "    print(\"*             Grade: B                   *\")\n",
    "    print(\"********** ------------------ ************\")\n",
    "elif(p>=70 and p<80):\n",
    "    print(\"*             Grade: C                   *\")\n",
    "    print(\"********** ------------------ ************\")\n",
    "elif(p>=60 and p<70):\n",
    "    print(\"*             Grade: D                   *\")\n",
    "    print(\"********** ------------------ ************\")\n",
    "else:\n",
    "    print(\"*             Grade: F                   *\") \n",
    "    print(\"********** ------------------ ************\")"
   ]
  },
  {
   "cell_type": "code",
   "execution_count": 2,
   "metadata": {},
   "outputs": [
    {
     "name": "stdout",
     "output_type": "stream",
     "text": [
      "Enter Number=17\n",
      "You Enter Odd Number= 17\n"
     ]
    }
   ],
   "source": [
    "# Question No.2\n",
    "number=int(input(\"Enter Number=\"))\n",
    "num=number%2\n",
    "if num>0:\n",
    "    print(\"You Enter Odd Number=\",number)\n",
    "else:\n",
    "    print(\"You Enter Even Number=\",number)"
   ]
  },
  {
   "cell_type": "code",
   "execution_count": 3,
   "metadata": {},
   "outputs": [
    {
     "name": "stdout",
     "output_type": "stream",
     "text": [
      "The Length of List= 4\n"
     ]
    }
   ],
   "source": [
    "# Question No. 3\n",
    "list=['Usman','Khan',True,17]\n",
    "a=len(list)\n",
    "print(\"The Length of List=\",a)"
   ]
  },
  {
   "cell_type": "code",
   "execution_count": 5,
   "metadata": {},
   "outputs": [
    {
     "name": "stdout",
     "output_type": "stream",
     "text": [
      "Sum of all List Number= 642\n"
     ]
    }
   ],
   "source": [
    "# Qustion No. 4\n",
    "list=[17,9,-10,23,90,78,34,91,87,90,23,76,34]\n",
    "a=0\n",
    "for x in list:\n",
    "    a+=x\n",
    "print(\"Sum of all List Number=\",a)"
   ]
  },
  {
   "cell_type": "code",
   "execution_count": 8,
   "metadata": {},
   "outputs": [
    {
     "name": "stdout",
     "output_type": "stream",
     "text": [
      "Largest Number in a List= 910\n"
     ]
    }
   ],
   "source": [
    "# Question No. 5\n",
    "list=[17,89,91,78,101,201,910,0,98,34]\n",
    "a=max(list)\n",
    "print(\"Largest Number in a List=\",a)"
   ]
  },
  {
   "cell_type": "code",
   "execution_count": 9,
   "metadata": {},
   "outputs": [
    {
     "name": "stdout",
     "output_type": "stream",
     "text": [
      "The Number Less than 5 in a list= 1\n",
      "The Number Less than 5 in a list= 1\n",
      "The Number Less than 5 in a list= 2\n",
      "The Number Less than 5 in a list= 3\n"
     ]
    }
   ],
   "source": [
    "# Question No. 6\n",
    "a = [1, 1, 2, 3, 5, 8, 13, 21, 34, 55, 89]\n",
    "for i in range(len(a)):\n",
    "    if a[i]<5: \n",
    "            print(\"The Number Less than 5 in a list=\",a[i]) "
   ]
  },
  {
   "cell_type": "code",
   "execution_count": null,
   "metadata": {},
   "outputs": [],
   "source": []
  }
 ],
 "metadata": {
  "kernelspec": {
   "display_name": "Python 3",
   "language": "python",
   "name": "python3"
  },
  "language_info": {
   "codemirror_mode": {
    "name": "ipython",
    "version": 3
   },
   "file_extension": ".py",
   "mimetype": "text/x-python",
   "name": "python",
   "nbconvert_exporter": "python",
   "pygments_lexer": "ipython3",
   "version": "3.7.4"
  }
 },
 "nbformat": 4,
 "nbformat_minor": 2
}
