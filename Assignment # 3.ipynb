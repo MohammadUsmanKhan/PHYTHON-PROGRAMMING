{
 "cells": [
  {
   "cell_type": "code",
   "execution_count": 23,
   "metadata": {},
   "outputs": [
    {
     "name": "stdout",
     "output_type": "stream",
     "text": [
      "Enter a Number 1=3\n",
      "Enter a Number 2=2\n",
      "Enter Operator :**\n",
      "your Square Root Answer 9\n"
     ]
    }
   ],
   "source": [
    "#Questin No. 1\n",
    "num1=int(input(\"Enter a Number 1=\"))\n",
    "num2=int(input(\"Enter a Number 2=\"))\n",
    "ope=input(\"Enter Operator :\")\n",
    "if '+'==ope:\n",
    "    print(\"Your Answer=\",num1+num2)\n",
    "elif '-'==ope:\n",
    "    print(\"Your Answer=\",num1-num2)\n",
    "elif '*'==ope:\n",
    "    print(\"Your Answer=\",num1*num2)\n",
    "elif '/'==ope:\n",
    "    print(\"Your Answer=\",num1/num2)\n",
    "elif '**'==ope:\n",
    "    print(\"your Square Root Answer\",num1**num2)\n",
    "else:\n",
    "    print(\"You Enter Wrong Operator\")\n"
   ]
  },
  {
   "cell_type": "code",
   "execution_count": 22,
   "metadata": {},
   "outputs": [
    {
     "name": "stdout",
     "output_type": "stream",
     "text": [
      "Enter a Numeric Value=17\n",
      "Your Numeric Value Not Matched= usman\n",
      "Your Numeric Value Not Matched= khan\n",
      "Your Numeric Value Matched= 17\n",
      "17\n"
     ]
    }
   ],
   "source": [
    "#Question No. 2\n",
    "list1=['usman','khan',17,5,1998]\n",
    "a=input(\"Enter a Numeric Value=\")\n",
    "a=int(a)\n",
    "for b in list1:\n",
    "    if b==a:\n",
    "        print(\"Your Numeric Value Matched=\",b)\n",
    "        break\n",
    "    else:\n",
    "        print(\"Your Numeric Value Not Matched=\",b)\n",
    "print(a)"
   ]
  },
  {
   "cell_type": "code",
   "execution_count": 21,
   "metadata": {},
   "outputs": [
    {
     "name": "stdout",
     "output_type": "stream",
     "text": [
      "{'Name': 'Usman', 'date_of_birth': '17/05/1998'}\n",
      "{'Name': 'Usman', 'date_of_birth': '17/05/1998', 'city': 'Karachi'}\n"
     ]
    }
   ],
   "source": [
    "#Question No.3\n",
    "dic={'Name':'Usman','date_of_birth':'17/05/1998'}\n",
    "print(dic)\n",
    "dic['city']='Karachi'\n",
    "print(dic)"
   ]
  },
  {
   "cell_type": "code",
   "execution_count": 36,
   "metadata": {},
   "outputs": [
    {
     "name": "stdout",
     "output_type": "stream",
     "text": [
      "The Sum of all Numeric valus in a Dictionary: 2020\n"
     ]
    }
   ],
   "source": [
    "#Question No.4\n",
    "dic={'day':17,'month':5,'year':1998}\n",
    "s=0\n",
    "for a in dic.keys():\n",
    "    s=s+dic[a]\n",
    "print(\"The Sum of all Numeric valus in a Dictionary:\",s)"
   ]
  },
  {
   "cell_type": "code",
   "execution_count": 52,
   "metadata": {},
   "outputs": [
    {
     "name": "stdout",
     "output_type": "stream",
     "text": [
      "{40, 10, 80, 50, 20, 60, 30}\n",
      "[10, 20, 30, 50, 60, 40, 80]\n"
     ]
    }
   ],
   "source": [
    "#Question No.5\n",
    "a = [10,20,30,20,10,50,60,40,80,50,40]\n",
    "\n",
    "dup_items = set()\n",
    "uniq_items = []\n",
    "for x in a:\n",
    "    if x not in dup_items:\n",
    "        uniq_items.append(x)\n",
    "        dup_items.add(x)\n",
    "\n",
    "print(dup_items)\n",
    "print(uniq_items)\n"
   ]
  },
  {
   "cell_type": "code",
   "execution_count": 58,
   "metadata": {},
   "outputs": [
    {
     "name": "stdout",
     "output_type": "stream",
     "text": [
      "Enter Key=6\n",
      "Key is present in the dictionary: 6\n"
     ]
    }
   ],
   "source": [
    "#Question No.5\n",
    "d = {1: 10, 2: 20, 3: 30, 4: 40, 5: 50, 6: 60}\n",
    "x=int(input(\"Enter Key=\"))\n",
    "if x in d:\n",
    "    print('Key is present in the dictionary:',x)\n",
    "else:\n",
    "    print('Key is not present in the dictionary:',x)"
   ]
  },
  {
   "cell_type": "code",
   "execution_count": null,
   "metadata": {},
   "outputs": [],
   "source": []
  }
 ],
 "metadata": {
  "kernelspec": {
   "display_name": "Python 3",
   "language": "python",
   "name": "python3"
  },
  "language_info": {
   "codemirror_mode": {
    "name": "ipython",
    "version": 3
   },
   "file_extension": ".py",
   "mimetype": "text/x-python",
   "name": "python",
   "nbconvert_exporter": "python",
   "pygments_lexer": "ipython3",
   "version": "3.7.4"
  }
 },
 "nbformat": 4,
 "nbformat_minor": 2
}
